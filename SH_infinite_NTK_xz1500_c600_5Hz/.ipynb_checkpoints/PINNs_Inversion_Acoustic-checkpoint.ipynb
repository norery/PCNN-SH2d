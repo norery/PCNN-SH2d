{
 "cells": [
  {
   "cell_type": "code",
   "execution_count": 1,
   "id": "e54bc280-3af0-4499-b9b6-18fc529537e9",
   "metadata": {
    "tags": []
   },
   "outputs": [
    {
     "name": "stderr",
     "output_type": "stream",
     "text": [
      "D:\\anaconda3\\envs\\tf1.14\\lib\\site-packages\\tensorflow\\python\\framework\\dtypes.py:516: FutureWarning: Passing (type, 1) or '1type' as a synonym of type is deprecated; in a future version of numpy, it will be understood as (type, (1,)) / '(1,)type'.\n",
      "  _np_qint8 = np.dtype([(\"qint8\", np.int8, 1)])\n",
      "D:\\anaconda3\\envs\\tf1.14\\lib\\site-packages\\tensorflow\\python\\framework\\dtypes.py:517: FutureWarning: Passing (type, 1) or '1type' as a synonym of type is deprecated; in a future version of numpy, it will be understood as (type, (1,)) / '(1,)type'.\n",
      "  _np_quint8 = np.dtype([(\"quint8\", np.uint8, 1)])\n",
      "D:\\anaconda3\\envs\\tf1.14\\lib\\site-packages\\tensorflow\\python\\framework\\dtypes.py:518: FutureWarning: Passing (type, 1) or '1type' as a synonym of type is deprecated; in a future version of numpy, it will be understood as (type, (1,)) / '(1,)type'.\n",
      "  _np_qint16 = np.dtype([(\"qint16\", np.int16, 1)])\n",
      "D:\\anaconda3\\envs\\tf1.14\\lib\\site-packages\\tensorflow\\python\\framework\\dtypes.py:519: FutureWarning: Passing (type, 1) or '1type' as a synonym of type is deprecated; in a future version of numpy, it will be understood as (type, (1,)) / '(1,)type'.\n",
      "  _np_quint16 = np.dtype([(\"quint16\", np.uint16, 1)])\n",
      "D:\\anaconda3\\envs\\tf1.14\\lib\\site-packages\\tensorflow\\python\\framework\\dtypes.py:520: FutureWarning: Passing (type, 1) or '1type' as a synonym of type is deprecated; in a future version of numpy, it will be understood as (type, (1,)) / '(1,)type'.\n",
      "  _np_qint32 = np.dtype([(\"qint32\", np.int32, 1)])\n",
      "D:\\anaconda3\\envs\\tf1.14\\lib\\site-packages\\tensorflow\\python\\framework\\dtypes.py:525: FutureWarning: Passing (type, 1) or '1type' as a synonym of type is deprecated; in a future version of numpy, it will be understood as (type, (1,)) / '(1,)type'.\n",
      "  np_resource = np.dtype([(\"resource\", np.ubyte, 1)])\n",
      "D:\\anaconda3\\envs\\tf1.14\\lib\\site-packages\\tensorboard\\compat\\tensorflow_stub\\dtypes.py:541: FutureWarning: Passing (type, 1) or '1type' as a synonym of type is deprecated; in a future version of numpy, it will be understood as (type, (1,)) / '(1,)type'.\n",
      "  _np_qint8 = np.dtype([(\"qint8\", np.int8, 1)])\n",
      "D:\\anaconda3\\envs\\tf1.14\\lib\\site-packages\\tensorboard\\compat\\tensorflow_stub\\dtypes.py:542: FutureWarning: Passing (type, 1) or '1type' as a synonym of type is deprecated; in a future version of numpy, it will be understood as (type, (1,)) / '(1,)type'.\n",
      "  _np_quint8 = np.dtype([(\"quint8\", np.uint8, 1)])\n",
      "D:\\anaconda3\\envs\\tf1.14\\lib\\site-packages\\tensorboard\\compat\\tensorflow_stub\\dtypes.py:543: FutureWarning: Passing (type, 1) or '1type' as a synonym of type is deprecated; in a future version of numpy, it will be understood as (type, (1,)) / '(1,)type'.\n",
      "  _np_qint16 = np.dtype([(\"qint16\", np.int16, 1)])\n",
      "D:\\anaconda3\\envs\\tf1.14\\lib\\site-packages\\tensorboard\\compat\\tensorflow_stub\\dtypes.py:544: FutureWarning: Passing (type, 1) or '1type' as a synonym of type is deprecated; in a future version of numpy, it will be understood as (type, (1,)) / '(1,)type'.\n",
      "  _np_quint16 = np.dtype([(\"quint16\", np.uint16, 1)])\n",
      "D:\\anaconda3\\envs\\tf1.14\\lib\\site-packages\\tensorboard\\compat\\tensorflow_stub\\dtypes.py:545: FutureWarning: Passing (type, 1) or '1type' as a synonym of type is deprecated; in a future version of numpy, it will be understood as (type, (1,)) / '(1,)type'.\n",
      "  _np_qint32 = np.dtype([(\"qint32\", np.int32, 1)])\n",
      "D:\\anaconda3\\envs\\tf1.14\\lib\\site-packages\\tensorboard\\compat\\tensorflow_stub\\dtypes.py:550: FutureWarning: Passing (type, 1) or '1type' as a synonym of type is deprecated; in a future version of numpy, it will be understood as (type, (1,)) / '(1,)type'.\n",
      "  np_resource = np.dtype([(\"resource\", np.ubyte, 1)])\n"
     ]
    }
   ],
   "source": [
    "# This code uses Physics-Informed Neural Networks PINNs (Raissi et al., 2019) to solve the inverse\n",
    "# acoustic problem for an elliposidal low velocity anomaly in the domain with a point source (Synthetic Crosswell).\n",
    "# See Case study 3 from our paper Rasht-Behesht et al., 2021 for a full description of all parameters involved\n",
    "# Note we use input data from SPECFEM2D (Komatitsch  and  Tromp,  1999;  Tromp  et  al.,  2008) for training the PINN\n",
    "\n",
    "import pickle\n",
    "import tensorflow as tf\n",
    "import numpy as np\n",
    "import matplotlib.pyplot as plt\n",
    "import time\n",
    "import timeit\n",
    "from SALib.sample import sobol_sequence\n",
    "import scipy.interpolate as interpolate"
   ]
  },
  {
   "cell_type": "code",
   "execution_count": 2,
   "id": "92d05da2-9c0c-4306-b2db-0d219e09a2be",
   "metadata": {},
   "outputs": [
    {
     "name": "stdout",
     "output_type": "stream",
     "text": [
      "WARNING:tensorflow:From C:\\Users\\norer\\AppData\\Local\\Temp\\ipykernel_15728\\2753215822.py:1: The name tf.reset_default_graph is deprecated. Please use tf.compat.v1.reset_default_graph instead.\n",
      "\n",
      "WARNING:tensorflow:From C:\\Users\\norer\\AppData\\Local\\Temp\\ipykernel_15728\\2753215822.py:3: The name tf.placeholder is deprecated. Please use tf.compat.v1.placeholder instead.\n",
      "\n"
     ]
    },
    {
     "data": {
      "text/plain": [
       "0.45"
      ]
     },
     "execution_count": 2,
     "metadata": {},
     "output_type": "execute_result"
    }
   ],
   "source": [
    "tf.reset_default_graph()\n",
    "\n",
    "x = tf.placeholder(tf.float64, shape=(None, 1))\n",
    "z = tf.placeholder(tf.float64, shape=(None, 1))\n",
    "t = tf.placeholder(tf.float64, shape=(None, 1))\n",
    "\n",
    "nx = 100  # number of nodes along x axis. used here to remove the specfem's absorbing regions from PINN's computational domain\n",
    "nz = 100\n",
    "\n",
    "n_abs = 10  # # of nodes for absorbing B.C in both directions from specfem\n",
    "n_absx = n_abs  # nodes from left side of the domain\n",
    "n_absz = n_abs  # the top boundary is not absorbing\n",
    "\n",
    "ax_spec = 1.5  # domain size in specfem before removing absorbing regions\n",
    "az_spec = 0.5\n",
    "xsf = 1.3  # x location of all the seismometers in specfem\n",
    "\n",
    "dx = ax_spec / nx\n",
    "dz = az_spec / nz\n",
    "rho = 1.0\n",
    "ax = xsf - n_absx * dx  # dimension of the domain in the x direction for PINNs training. Note, 1.1500000000000001\n",
    "# we just need to remove the thickness of the absorbing B.C on the left since\n",
    "# xsf is (must be) smaller than where the right side absorbing B.C starts\n",
    "az = az_spec - n_absz * dz  # dimension of the domain in the z direction, 0.45\n",
    "t_m = 0.5  # total time for PDE training.\n",
    "t_st = 0.1  # this is when we take the first I.C from specfem\n",
    "t_s = 0.5  # total time series used from the seismograms\n",
    "\n",
    "s_spec = 5e-5  # specfem time stepsize\n",
    "t01 = 2000 * s_spec  # initial disp. input at this time from spec\n",
    "t02 = 2300 * s_spec  # sec \"initial\" disp. input at this time from spec instead of enforcing initial velocity\n",
    "t_la = 5000 * s_spec  # test data for comparing specfem and trained PINNs\n",
    "\n",
    "n_seis = 20  # number of input seismometers from SPECFEM; if events have different\n",
    "# numbers of seismometers, you have to change the lines containing n_seis accordingly\n",
    "z0_s = az  # z location of the first seismometer from SPECFEM in PINN's refrence frame.Here it must\n",
    "# be in km while in SPECFEM it's in meters. Note here we assume seismometers are\n",
    "# NOT all on the surface and they are on a vertical line with the same x; the first \n",
    "# seismometers is at the surface and the next one goes deeper\n",
    "\n",
    "zl_s = 0.06 - n_absz * dz  # z location of the last seismometer at depth. this doesn't have\n",
    "# to be zero and can be higher especially if you have absorbing B.C at the bottom, change\n",
    "# this accordingly based on what you used from specfem\n",
    "\n",
    "\n",
    "Lx = 3  # this is for scaling the wavespeed in the PDE via saling x coordinate\n",
    "Lz = 3  # this is for scaling the wavespeed in the PDE via scaling z coordinate\n",
    "\n",
    "az"
   ]
  },
  {
   "cell_type": "code",
   "execution_count": 3,
   "id": "92f83c9d-dc1d-4433-8f8b-a870f083fbde",
   "metadata": {},
   "outputs": [],
   "source": [
    "# Here we define the true ground velocity\n",
    "def g(x, z, a, b, c, d):\n",
    "    return ((x - c) ** 2 / a ** 2 + (z - d) ** 2 / b ** 2)\n",
    "\n",
    "\n",
    "alpha_true = 3 - 0.25 * (1 + tf.tanh(100 * (1 - g(x * Lx, z * Lz, 0.18, 0.1, 1.0 - n_absx * dx, 0.3 - n_absz * dz))))\n",
    "\n",
    "ub = np.array([ax / Lx, az / Lz, (t_m - t_st)]).reshape(-1, 1).T  # normalization of the input to the NN\n",
    "ub0 = np.array([ax / Lx, az / Lz]).reshape(-1, 1).T  # same for the inverse NN estimating the wave_speed\n",
    "\n",
    "\n",
    "def xavier_init(size):\n",
    "    in_dim = size[0]\n",
    "    out_dim = size[1]\n",
    "    xavier_stddev = np.sqrt(2.0 / (in_dim + out_dim))\n",
    "    return tf.Variable(tf.truncated_normal([in_dim, out_dim], stddev=xavier_stddev, dtype=tf.float64), dtype=tf.float64)\n",
    "\n",
    "\n",
    "def neural_net(X, weights, biases):\n",
    "    num_layers = len(weights) + 1\n",
    "    H = 2 * (X / ub) - 1  # normalization map to [-1 1]\n",
    "    for l in range(0, num_layers - 2):\n",
    "        W = weights[l]\n",
    "        b = biases[l]\n",
    "        H = tf.nn.tanh(tf.add(tf.matmul(H, W), b))\n",
    "\n",
    "    W = weights[-1]\n",
    "    b = biases[-1]\n",
    "    Y = tf.add(tf.matmul(H, W), b)\n",
    "    return Y\n",
    "\n",
    "\n",
    "def neural_net0(X, weights, biases):\n",
    "    num_layers = len(weights) + 1\n",
    "    H = 2 * (X / ub0) - 1\n",
    "    for l in range(0, num_layers - 2):\n",
    "        W = weights[l]\n",
    "        b = biases[l]\n",
    "        H = tf.nn.tanh(tf.add(tf.matmul(H, W), b))\n",
    "\n",
    "    W = weights[-1]\n",
    "    b = biases[-1]\n",
    "    Y = tf.add(tf.matmul(H, W), b)\n",
    "    return Y"
   ]
  },
  {
   "cell_type": "code",
   "execution_count": 4,
   "id": "6d8db6a7-4c0d-4959-8440-4af7046a45b9",
   "metadata": {},
   "outputs": [
    {
     "name": "stdout",
     "output_type": "stream",
     "text": [
      "WARNING:tensorflow:From C:\\Users\\norer\\AppData\\Local\\Temp\\ipykernel_15728\\3046320562.py:16: The name tf.truncated_normal is deprecated. Please use tf.random.truncated_normal instead.\n",
      "\n"
     ]
    }
   ],
   "source": [
    "layers = [3] + [30] * 3 + [1]  # layers for the NN approximating the scalar acoustic potential\n",
    "\n",
    "L = len(layers)\n",
    "weights = [xavier_init([layers[l], layers[l + 1]]) for l in range(0, L - 1)]\n",
    "biases = [tf.Variable(tf.zeros((1, layers[l + 1]), dtype=tf.float64)) for l in range(0, L - 1)]\n",
    "\n",
    "layers0 = [2] + [20] * 5 + [1]  # layers for the second NN to approximate the wavespeed\n",
    "\n",
    "L0 = len(layers0)\n",
    "weights0 = [xavier_init([layers0[l], layers0[l + 1]]) for l in range(0, L0 - 1)]\n",
    "biases0 = [tf.Variable(tf.zeros((1, layers0[l + 1]), dtype=tf.float64)) for l in range(0, L0 - 1)]\n",
    "\n",
    "learning_rate = 1.e-4\n",
    "\n",
    "alpha_star = tf.tanh(neural_net0(tf.concat((x, z), axis=1), weights0, biases0))"
   ]
  },
  {
   "cell_type": "code",
   "execution_count": 5,
   "id": "c84c3c5f-1612-4391-bd1b-6e36791a31c1",
   "metadata": {},
   "outputs": [],
   "source": [
    "# Choose the box within which you are doing the inversion\n",
    "z_st = 0.1 - n_absz * dz  # We are removing the absorbing layer from z_st to make it with reference to PINN's coordinate\n",
    "z_fi = 0.45 - n_absz * dz\n",
    "x_st = 0.7 - n_absx * dx\n",
    "x_fi = 1.25 - n_absx * dx\n",
    "lld = 1000\n",
    "alpha_bound = 0.5 * (1 + tf.tanh(lld * (z - z_st / Lz))) * 0.5 * (1 + tf.tanh(lld * (-z + z_fi / Lz))) * 0.5 * (\n",
    "            1 + tf.tanh(lld * (x - x_st / Lx))) * 0.5 * (1 + tf.tanh(\n",
    "    lld * (-x + x_fi / Lx)))  # confining the inversion to a box and not the whole region\n",
    "\n",
    "alpha = 3 + 2 * alpha_star * alpha_bound\n",
    "\n",
    "#### Scalar acoustic wave potential\n",
    "phi = neural_net(tf.concat((x, z, t), axis=1), weights, biases)\n",
    "\n",
    "P = (1 / Lx) ** 2 * tf.gradients(tf.gradients(phi, x)[0], x)[0] + (1 / Lz) ** 2 * \\\n",
    "    tf.gradients(tf.gradients(phi, z)[0], z)[0]\n",
    "\n",
    "eq = tf.gradients(tf.gradients(phi, t)[0], t)[0] - alpha ** 2 * P  # Scalar Wave equation\n",
    "\n",
    "ux = tf.gradients(phi, x)[0]  # u=grad(phi)\n",
    "uz = tf.gradients(phi, z)[0]\n",
    "Vel_x = tf.gradients(ux, t)[0]  # velocity field\n",
    "Vel_z = tf.gradients(uz, t)[0]"
   ]
  },
  {
   "cell_type": "code",
   "execution_count": 6,
   "id": "60fb6da1-b4d6-41da-8961-7e97d791389b",
   "metadata": {
    "tags": []
   },
   "outputs": [
    {
     "name": "stdout",
     "output_type": "stream",
     "text": [
      "batch_size : 40000\n"
     ]
    }
   ],
   "source": [
    "### PDE residuals, Cost losts of time!!!\n",
    "batch_size = 40000\n",
    "n_pde = batch_size * 2000\n",
    "print('batch_size', ':', batch_size)\n",
    "X_pde = sobol_sequence.sample(n_pde + 1, 3)[1:, :]\n",
    "X_pde[:, 0] = X_pde[:, 0] * ax / Lx\n",
    "X_pde[:, 1] = X_pde[:, 1] * az / Lz\n",
    "X_pde[:, 2] = X_pde[:, 2] * (t_m - t_st)\n"
   ]
  },
  {
   "cell_type": "code",
   "execution_count": 7,
   "id": "53e8659c-a6fb-4305-b2fc-b5a53830ca14",
   "metadata": {},
   "outputs": [
    {
     "name": "stdout",
     "output_type": "stream",
     "text": [
      "shpae of X_pde: (80000000, 3)\n"
     ]
    }
   ],
   "source": [
    "# np.savetxt('X_pde.txt', X_pde)\n",
    "print(f'shpae of X_pde: {X_pde.shape}')"
   ]
  },
  {
   "cell_type": "markdown",
   "id": "a2580f36-f012-48a8-9606-c55df52a8397",
   "metadata": {},
   "source": [
    "## initial x,z conditions for all events"
   ]
  },
  {
   "cell_type": "code",
   "execution_count": 8,
   "id": "ec32c5a8-2a37-49cd-afd3-dd4e5de64438",
   "metadata": {},
   "outputs": [
    {
     "name": "stdout",
     "output_type": "stream",
     "text": [
      "shpae of X0: (160801, 2) === min of X0: 0.0 === max of X0:1500.0\n",
      "min of X0: 0.0, max of X0:0.5\n",
      "shpae of xz: (160801, 2)\n"
     ]
    }
   ],
   "source": [
    "### initial x,z conditions for all events\n",
    "# coordinates on which the wavefield output is recorded on specfem. It's the same for all the runs with the same meshing system in specfem\n",
    "# 在specfem上记录波场输出的坐标。对于specfem中使用相同网格系统的所有运行都是相同的\n",
    "X0 = np.loadtxt(\n",
    "    'event1/wavefields/wavefield_grid_for_dumps_000.txt')  \n",
    "print(f'shpae of X0: {X0.shape} === min of X0: {np.min(X0)} === max of X0:{np.max(X0)}')\n",
    "X0 = X0 / 1000  # specfem works with meters unit so we need to convert them to Km\n",
    "X0[:, 0:1] = X0[:, 0:1] / Lx  # scaling the spatial domain, Lx=3\n",
    "X0[:, 1:2] = X0[:, 1:2] / Lz  # scaling the spatial domain, Lz=3\n",
    "print(f'min of X0: {np.min(X0)}, max of X0:{np.max(X0)}')\n",
    "xz = np.concatenate((X0[:, 0:1], X0[:, 1:2]), axis=1)\n",
    "print(f'shpae of xz: {xz.shape}')"
   ]
  },
  {
   "cell_type": "code",
   "execution_count": 9,
   "id": "6d70b003-c796-42ed-9690-69e71fcab0ab",
   "metadata": {},
   "outputs": [
    {
     "name": "stdout",
     "output_type": "stream",
     "text": [
      "shpae of xx: (40, 40); shpae of zz: (40, 40)\n",
      "shpae of xxzz: (1600, 2)\n",
      "shpae of X_init1: (1600, 3); shpae of X_init2: (1600, 3)\n"
     ]
    }
   ],
   "source": [
    "n_ini = 40\n",
    "\n",
    "xx, zz = np.meshgrid(np.linspace(0, ax / Lx, n_ini), np.linspace(0, az / Lz, n_ini))\n",
    "print(f'shpae of xx: {xx.shape}; shpae of zz: {zz.shape}')\n",
    "xxzz = np.concatenate((xx.reshape((-1, 1)), zz.reshape((-1, 1))), axis=1)\n",
    "print(f'shpae of xxzz: {xxzz.shape}')\n",
    "\n",
    "t_init1 = 0.0 * np.ones((n_ini ** 2, 1), dtype=np.float64)\n",
    "t_init2 = (t02 - t01) * np.ones((n_ini ** 2, 1), dtype=np.float64)\n",
    "# for enforcing the disp I.C\n",
    "X_init1 = np.concatenate((xx.reshape((-1, 1)), zz.reshape((-1, 1)), t_init1), axis=1) \n",
    "# for enforcing the sec I.C, another snapshot of specfem\n",
    "X_init2 = np.concatenate((xx.reshape((-1, 1)), zz.reshape((-1, 1)), t_init2), axis=1)  \n",
    "print(f'shpae of X_init1: {X_init1.shape}; shpae of X_init2: {X_init2.shape}')"
   ]
  },
  {
   "cell_type": "code",
   "execution_count": 10,
   "id": "a1c29ce0-e076-4452-a47f-abfdc2fdbe74",
   "metadata": {
    "tags": []
   },
   "outputs": [
    {
     "name": "stdout",
     "output_type": "stream",
     "text": [
      "shpae of xxs: (40, 40); shpae of zzs: (40, 40)\n",
      "shpae of xxzzs: (1600, 2)\n"
     ]
    }
   ],
   "source": [
    "# interpolationg specfem results in the non-absrobing part of the domain only\n",
    "xf = n_absx * dx  # start of the nonabsorbing part of the domain in specfem， 0.15\n",
    "zf = n_absz * dz  # 0.15\n",
    "xxs, zzs = np.meshgrid(np.linspace(xf / Lx, xsf / Lx, n_ini), np.linspace(zf / Lz, az_spec / Lz, n_ini))\n",
    "print(f'shpae of xxs: {xxs.shape}; shpae of zzs: {zzs.shape}')\n",
    "xxzzs = np.concatenate((xxs.reshape((-1, 1)), zzs.reshape((-1, 1))), axis=1)\n",
    "print(f'shpae of xxzzs: {xxzzs.shape}')\n",
    "u_scl = 1 / 3640  # scaling the output data to cover [-1 1] interval"
   ]
  },
  {
   "cell_type": "code",
   "execution_count": 11,
   "id": "cd462052-c3a4-4136-8cb3-3d68b323b6a8",
   "metadata": {},
   "outputs": [
    {
     "name": "stdout",
     "output_type": "stream",
     "text": [
      "wfs: ['wavefield0002000_01_000.txt', 'wavefield0002300_01_000.txt', 'wavefield0005000_01_000.txt', 'wavefield_grid_for_dumps_000.txt']\n"
     ]
    }
   ],
   "source": [
    "import os\n",
    "\n",
    "# uploading the wavefields from specfem\n",
    "wfs = sorted(os.listdir('event1/wavefields/.'))\n",
    "print(f'wfs: {wfs}')\n",
    "U0 = [np.loadtxt('event1/wavefields/' + f) for f in wfs]\n",
    "\n",
    "# t0=0.1\n",
    "U_ini1 = interpolate.griddata(xz, U0[0], xxzzs, fill_value=0.0)\n",
    "U_ini1x = U_ini1[:, 0:1] / u_scl\n",
    "U_ini1z = U_ini1[:, 1:2] / u_scl\n",
    "\n",
    "# t1=0.115, t1=t1+dt, dt=0.015?\n",
    "U_ini2 = interpolate.griddata(xz, U0[1], xxzzs, fill_value=0.0)\n",
    "U_ini2x = U_ini2[:, 0:1] / u_scl\n",
    "U_ini2z = U_ini2[:, 1:2] / u_scl\n",
    "\n",
    "# t=0.15\n",
    "U_spec = interpolate.griddata(xz, U0[2], xxzzs, fill_value=0.0)  # Test data\n",
    "U_specx = U_spec[:, 0:1] / u_scl\n",
    "U_specz = U_spec[:, 1:2] / u_scl"
   ]
  },
  {
   "cell_type": "code",
   "execution_count": 12,
   "id": "b8d01e4b-6813-40fd-9725-0a2397ab8068",
   "metadata": {},
   "outputs": [
    {
     "data": {
      "image/png": "[encoded data removed]",
      "text/plain": [
       "<Figure size 432x288 with 2 Axes>"
      ]
     },
     "metadata": {
      "needs_background": "light"
     },
     "output_type": "display_data"
    },
    {
     "data": {
      "image/png": "[encoded data removed]",
      "text/plain": [
       "<Figure size 432x288 with 2 Axes>"
      ]
     },
     "metadata": {
      "needs_background": "light"
     },
     "output_type": "display_data"
    },
    {
     "data": {
      "image/png": "[encoded data removed]",
      "text/plain": [
       "<Figure size 432x288 with 2 Axes>"
      ]
     },
     "metadata": {
      "needs_background": "light"
     },
     "output_type": "display_data"
    }
   ],
   "source": [
    "################### plots of inputs for sum of the events\n",
    "fig = plt.figure()\n",
    "plt.contourf(xx * Lx, zz * Lz, np.sqrt(U_ini1x ** 2 + U_ini1z ** 2).reshape(xx.shape), 100, cmap='jet')\n",
    "plt.xlabel('x')\n",
    "plt.ylabel('z')\n",
    "plt.title('Scaled I.C total disp. input specfem t=' + str(t01))\n",
    "plt.colorbar()\n",
    "plt.axis('scaled')\n",
    "plt.savefig('Ini_total_disp_spec_sumEvents.png', dpi=400)\n",
    "plt.show()\n",
    "plt.close(fig)\n",
    "\n",
    "fig = plt.figure()\n",
    "plt.contourf(xx * Lx, zz * Lz, np.sqrt(U_ini2x ** 2 + U_ini2z ** 2).reshape(xx.shape), 100, cmap='jet')\n",
    "plt.xlabel('x')\n",
    "plt.ylabel('z')\n",
    "plt.title('Scaled sec I.C total disp. input specfem t=' + str(round(t02, 4)))\n",
    "plt.colorbar()\n",
    "plt.axis('scaled')\n",
    "plt.savefig('sec_wavefield_input_spec_sumEvents.png', dpi=400)\n",
    "plt.show()\n",
    "plt.close(fig)\n",
    "\n",
    "fig = plt.figure()\n",
    "plt.contourf(xx * Lx, zz * Lz, np.sqrt(U_specx ** 2 + U_specz ** 2).reshape(xx.shape), 100, cmap='jet')\n",
    "plt.xlabel('x')\n",
    "plt.ylabel('z')\n",
    "plt.title('Test data: Total displacement specfem t=' + str(round((t_la - t01), 4)))\n",
    "plt.colorbar()\n",
    "plt.axis('scaled')\n",
    "plt.savefig('total_disp_spec_testData_sumEvents.png', dpi=400)\n",
    "plt.show()\n",
    "plt.close(fig)\n",
    "###############################################################"
   ]
  },
  {
   "cell_type": "markdown",
   "id": "f6fdcad0-9c85-48fc-b517-e98d40d46570",
   "metadata": {},
   "source": [
    "## Z component seismograms"
   ]
  },
  {
   "cell_type": "code",
   "execution_count": 13,
   "id": "67adb7d8-dc08-43cc-87cb-986c66c2f3b7",
   "metadata": {},
   "outputs": [
    {
     "name": "stdout",
     "output_type": "stream",
     "text": [
      "sms: ['AA.S0001.BXX.semd', 'AA.S0001.BXZ.semd', 'AA.S0002.BXX.semd', 'AA.S0002.BXZ.semd', 'AA.S0003.BXX.semd', 'AA.S0003.BXZ.semd', 'AA.S0004.BXX.semd', 'AA.S0004.BXZ.semd', 'AA.S0005.BXX.semd', 'AA.S0005.BXZ.semd', 'AA.S0006.BXX.semd', 'AA.S0006.BXZ.semd', 'AA.S0007.BXX.semd', 'AA.S0007.BXZ.semd', 'AA.S0008.BXX.semd', 'AA.S0008.BXZ.semd', 'AA.S0009.BXX.semd', 'AA.S0009.BXZ.semd', 'AA.S0010.BXX.semd', 'AA.S0010.BXZ.semd', 'AA.S0011.BXX.semd', 'AA.S0011.BXZ.semd', 'AA.S0012.BXX.semd', 'AA.S0012.BXZ.semd', 'AA.S0013.BXX.semd', 'AA.S0013.BXZ.semd', 'AA.S0014.BXX.semd', 'AA.S0014.BXZ.semd', 'AA.S0015.BXX.semd', 'AA.S0015.BXZ.semd', 'AA.S0016.BXX.semd', 'AA.S0016.BXZ.semd', 'AA.S0017.BXX.semd', 'AA.S0017.BXZ.semd', 'AA.S0018.BXX.semd', 'AA.S0018.BXZ.semd', 'AA.S0019.BXX.semd', 'AA.S0019.BXZ.semd', 'AA.S0020.BXX.semd', 'AA.S0020.BXZ.semd']\n",
      "len of seismo_listz: 20\n",
      "shpae of t_spec: (15000,) === min of t_spec: [0.0] === max of t_spec: [0.7499499999999999]\n",
      "shpae of index: (81,) === min of index: [2000] === max of index: [10000]\n",
      "shpae of t_spec_sub: (81, 1) === min of t_spec_sub: [0.1] === max of t_spec_sub: [0.5]\n",
      "shpae of t_spec_sub: (81, 1) === min of t_spec_sub: [0.0] === max of t_spec_sub: [0.4]\n"
     ]
    }
   ],
   "source": [
    "################# ----Z component seismograms\n",
    "################# input seismograms for the first event\n",
    "\n",
    "import os\n",
    "\n",
    "# AA.S0001-AA.S0020, BXX/BXZ.semd\n",
    "sms = sorted(os.listdir('event1/seismograms/.'))\n",
    "print(f'sms: {sms}')\n",
    "smsz = [f for f in sms if f[-6] == 'Z']  # Z cmp seismos\n",
    "seismo_listz = [np.loadtxt('event1/seismograms/' + f) for f in smsz]  # Z cmp seismos\n",
    "print(f'len of seismo_listz: {len(seismo_listz)}')\n",
    "\n",
    "# specfem's time doesn't start from zero for the seismos, so we shift it forward to zero\n",
    "t_spec = -seismo_listz[0][0, 0] + seismo_listz[0][:, 0]\n",
    "print(f'shpae of t_spec: {t_spec.shape} === min of t_spec: [{np.min(t_spec)}] === max of t_spec: [{np.max(t_spec)}]')\n",
    "# 这里我们只包括部分来自specfem的地震图，它们在PINNs的训练时域内，即[t_st t_m]。\n",
    "cut_u = t_spec > t_s  \n",
    "cut_l = t_spec < t_st  # Cutting the seismograms to only after the time the first snapshot from specfem is used for PINNs\n",
    "l_su = len(cut_u) - sum(cut_u)  # this is the index of the time axis in specfem after which t>t_m\n",
    "l_sl = sum(cut_l)\n",
    "\n",
    "l_f = 100  # subsampling seismograms from specfem\n",
    "index = np.arange(l_sl, l_su, l_f)  # subsampling every l_s time steps from specfem in the training interval\n",
    "print(f'shpae of index: {index.shape} === min of index: [{np.min(index)}] === max of index: [{np.max(index)}]')\n",
    "\n",
    "l_sub = len(index)\n",
    "t_spec_sub = t_spec[index].reshape((-1, 1))  # subsampled time axis of specfem for the seismograms\n",
    "print(f'shpae of t_spec_sub: {t_spec_sub.shape} === min of t_spec_sub: [{np.min(t_spec_sub)}] === max of t_spec_sub: [{np.max(t_spec_sub)}]')\n",
    "\n",
    "# shifting the time axis back to zero. length of t_spec_sub must be equal to t_m-t_st\n",
    "t_spec_sub = t_spec_sub - t_spec_sub[0]\n",
    "print(f'shpae of t_spec_sub: {t_spec_sub.shape} === min of t_spec_sub: [{np.min(t_spec_sub)}] === max of t_spec_sub: [{np.max(t_spec_sub)}]')\n",
    "\n",
    "for ii in range(len(seismo_listz)):\n",
    "    seismo_listz[ii] = seismo_listz[ii][index]\n",
    "\n",
    "Sz = seismo_listz[0][:, 1].reshape(-1, 1)\n",
    "for ii in range(len(seismo_listz) - 1):\n",
    "    Sz = np.concatenate((Sz, seismo_listz[ii + 1][:, 1].reshape(-1, 1)), axis=0)\n",
    "\n",
    "Sz = Sz / u_scl  # scaling the sum of all seismogram inputs"
   ]
  },
  {
   "cell_type": "code",
   "execution_count": 14,
   "id": "7d0e24d7-4b85-47e7-91f7-253f54b2e9a9",
   "metadata": {},
   "outputs": [
    {
     "name": "stdout",
     "output_type": "stream",
     "text": [
      "d_s: 0.023157894736842106\n",
      "shpae of X_S: (1620, 3) === min of X_S: [0.0] === max of X_S: [0.4]\n"
     ]
    }
   ],
   "source": [
    "# X_S is the training collection of input coordinates in space-time for all seismograms\n",
    "X_S = np.empty([int(np.size(Sz)), 3])\n",
    "\n",
    "d_s = np.abs((zl_s - z0_s)) / (n_seis - 1)  # the distance between seismometers\n",
    "print(f'd_s: {d_s}')\n",
    "\n",
    "for i in range(len(seismo_listz)):\n",
    "    X_S[i * l_sub:(i + 1) * l_sub, ] = np.concatenate((ax / Lx * np.ones((l_sub, 1), dtype=np.float64), \\\n",
    "                                                       (z0_s - i * d_s) / Lz * np.ones((l_sub, 1), dtype=np.float64),\n",
    "                                                       t_spec_sub), axis=1)\n",
    "    \n",
    "print(f'shpae of X_S: {X_S.shape} === min of X_S: [{np.min(X_S)}] === max of X_S: [{np.max(X_S)}]')"
   ]
  },
  {
   "cell_type": "markdown",
   "id": "9f487191-86a4-4c23-81a0-efb88d746ab4",
   "metadata": {},
   "source": [
    "## X component seismograms"
   ]
  },
  {
   "cell_type": "code",
   "execution_count": 15,
   "id": "55b5908a-dea8-4ddc-99be-6940aaa5f84b",
   "metadata": {},
   "outputs": [],
   "source": [
    "################# ----X component seismograms\n",
    "#################input seismograms for the first event\n",
    "\n",
    "import os\n",
    "\n",
    "sms = sorted(os.listdir('event1/seismograms/.'))\n",
    "\n",
    "smsx = [f for f in sms if f[-6] == 'X']  # X cmp seismos\n",
    "seismo_listx = [np.loadtxt('event1/seismograms/' + f) for f in smsx]  # X cmp seismos\n",
    "\n",
    "for ii in range(len(seismo_listx)):\n",
    "    seismo_listx[ii] = seismo_listx[ii][index]\n",
    "\n",
    "Sx = seismo_listx[0][:, 1].reshape(-1, 1)\n",
    "for ii in range(len(seismo_listx) - 1):\n",
    "    Sx = np.concatenate((Sx, seismo_listx[ii + 1][:, 1].reshape(-1, 1)), axis=0)\n",
    "\n",
    "Sx = Sx / u_scl  # scaling the sum of all seismogram inputs"
   ]
  },
  {
   "cell_type": "markdown",
   "id": "549d36df-ef00-400b-a78c-1a781f632231",
   "metadata": {},
   "source": [
    "### BCs: Free stress on top and no BC for other sides (absorbing)"
   ]
  },
  {
   "cell_type": "code",
   "execution_count": 16,
   "id": "df11ac22-bbcd-42f2-b79e-aa1130cf2c25",
   "metadata": {},
   "outputs": [
    {
     "name": "stdout",
     "output_type": "stream",
     "text": [
      "shpae of X_BC_t: (5000, 3) === min of X_BC_t: [0.0016350682228938838] === max of X_BC_t: [0.38528154412018756]\n"
     ]
    }
   ],
   "source": [
    "####  BCs: Free stress on top and no BC for other sides (absorbing)\n",
    "bcxn = 100\n",
    "bctn = 50\n",
    "x_vec = np.random.rand(bcxn, 1) * ax / Lx\n",
    "t_vec = np.random.rand(bctn, 1) * (t_m - t_st)\n",
    "xxb, ttb = np.meshgrid(x_vec, t_vec)\n",
    "X_BC_t = np.concatenate(\n",
    "    (xxb.reshape((-1, 1)), az / Lz * np.ones((xxb.reshape((-1, 1)).shape[0], 1)), ttb.reshape((-1, 1))), axis=1)\n",
    "print(f'shpae of X_BC_t: {X_BC_t.shape} === min of X_BC_t: [{np.min(X_BC_t)}] === max of X_BC_t: [{np.max(X_BC_t)}]')"
   ]
  },
  {
   "cell_type": "markdown",
   "id": "f14ecb5b-53e4-48ac-a428-1895f74e3f2f",
   "metadata": {},
   "source": [
    "### Compute Loss"
   ]
  },
  {
   "cell_type": "code",
   "execution_count": 17,
   "id": "b0c4e774-ad34-46b5-aa08-5913d13209f8",
   "metadata": {
    "tags": []
   },
   "outputs": [
    {
     "name": "stdout",
     "output_type": "stream",
     "text": [
      "N1: 40000; N2: 1600, N3: 1600; N4: 1620\n",
      "shape of XX: (49820, 3)\n"
     ]
    }
   ],
   "source": [
    "N1 = batch_size\n",
    "N2 = X_init1.shape[0]\n",
    "N3 = X_init2.shape[0]\n",
    "N4 = X_S.shape[0]\n",
    "print(f'N1: {N1}; N2: {N2}, N3: {N3}; N4: {N4}')\n",
    "\n",
    "XX = np.concatenate((X_pde[0:batch_size], X_init1, X_init2, X_S, X_BC_t), axis=0)\n",
    "print(f'shape of XX: {XX.shape}')\n",
    "\n",
    "feed_dict1 = {x: XX[:, 0:1], z: XX[:, 1:2], t: XX[:, 2:3]}  # This dictionary is for training"
   ]
  },
  {
   "cell_type": "code",
   "execution_count": 18,
   "id": "4ecf7500-9d23-45da-8e0f-93be1a2773b8",
   "metadata": {},
   "outputs": [
    {
     "name": "stdout",
     "output_type": "stream",
     "text": [
      "WARNING:tensorflow:From C:\\Users\\norer\\AppData\\Local\\Temp\\ipykernel_15728\\1662813805.py:19: The name tf.train.AdamOptimizer is deprecated. Please use tf.compat.v1.train.AdamOptimizer instead.\n",
      "\n",
      "WARNING:tensorflow:From D:\\anaconda3\\envs\\tf1.14\\lib\\site-packages\\tensorflow\\python\\ops\\math_grad.py:1205: add_dispatch_support.<locals>.wrapper (from tensorflow.python.ops.array_ops) is deprecated and will be removed in a future version.\n",
      "Instructions for updating:\n",
      "Use tf.where in 2.0, which has the same broadcast rule as np.where\n"
     ]
    }
   ],
   "source": [
    "loss_pde = tf.reduce_mean(tf.square(eq[:N1, 0:1]))\n",
    "\n",
    "loss_init_disp1 = tf.constant(0.0, dtype=tf.float64)\n",
    "loss_init_disp2 = tf.constant(0.0, dtype=tf.float64)\n",
    "\n",
    "loss_init_disp1 = tf.reduce_mean(tf.square(ux[N1:(N1 + N2), 0:1] - U_ini1x)) \\\n",
    "                  + tf.reduce_mean(tf.square(uz[N1:(N1 + N2), 0:1] - U_ini1z))\n",
    "\n",
    "loss_init_disp2 = tf.reduce_mean(tf.square(ux[(N1 + N2):(N1 + N2 + N3), 0:1] - U_ini2x)) \\\n",
    "                  + tf.reduce_mean(tf.square(uz[(N1 + N2):(N1 + N2 + N3), 0:1] - U_ini2z))\n",
    "\n",
    "loss_seism = tf.reduce_mean(tf.square(ux[(N1 + N2 + N3):(N1 + N2 + N3 + N4), 0:1] - Sx)) \\\n",
    "             + tf.reduce_mean(tf.square(uz[(N1 + N2 + N3):(N1 + N2 + N3 + N4), 0:1] - Sz))\n",
    "\n",
    "loss_BC = tf.reduce_mean(tf.square(P[(N1 + N2 + N3 + N4):, 0:1]))\n",
    "\n",
    "loss = 1e-1 * loss_pde + loss_init_disp1 + loss_init_disp2 + loss_seism + 1e-1 * loss_BC\n",
    "\n",
    "optimizer_Adam = tf.train.AdamOptimizer(learning_rate)\n",
    "train_op_Adam = optimizer_Adam.minimize(loss)"
   ]
  },
  {
   "cell_type": "code",
   "execution_count": 19,
   "id": "7c9bcc4d-472d-47f5-be76-7146a0270187",
   "metadata": {},
   "outputs": [],
   "source": [
    "xx0, zz0 = xx.reshape((-1, 1)), zz.reshape((-1, 1))\n",
    "\n",
    "X_eval01 = np.concatenate((xx0, zz0, 0 * np.ones((xx0.shape[0], 1))), axis=1)  # evaluating PINNs at time=0\n",
    "X_eval02 = np.concatenate((xx0, zz0, (t02 - t01) * np.ones((xx0.shape[0], 1))),\n",
    "                          axis=1)  # evaluating PINNs at time when the second input from specfem is provided\n",
    "X_evalt = np.concatenate((xx0, zz0, (t_la - t01) * np.ones((xx0.shape[0], 1))),\n",
    "                         axis=1)  # evaluating PINNs at a later time>0\n",
    "\n",
    "feed_dict01 = {x: X_eval01[:, 0:1], z: X_eval01[:, 1:2], t: X_eval01[:,\n",
    "                                                            2:3]}  # this dictionary is for evaluating the initial condition recovered from PINNs on new test points other than the ones used for training\n",
    "feed_dict02 = {x: X_eval02[:, 0:1], z: X_eval02[:, 1:2], t: X_eval02[:,\n",
    "                                                            2:3]}  # this dictionary is for evaluating the initial condition recovered from PINNs on new test points other than the ones used for training\n",
    "feed_dict2 = {x: X_evalt[:, 0:1], z: X_evalt[:, 1:2],\n",
    "              t: X_evalt[:, 2:3]}  # this dictionary is for evaluating PINNs at a later time>0\n",
    "feed_dict_seism = {x: X_S[:, 0:1], z: X_S[:, 1:2], t: X_S[:, 2:3]}\n",
    "i = int(-1)\n",
    "loss_eval = np.zeros((1, 7))\n",
    "loss_rec = np.empty((0, 7))"
   ]
  },
  {
   "cell_type": "code",
   "execution_count": 20,
   "id": "17bcaf14-c2d8-4b66-89b6-04d3b84b202b",
   "metadata": {},
   "outputs": [
    {
     "name": "stdout",
     "output_type": "stream",
     "text": [
      "WARNING:tensorflow:From C:\\Users\\norer\\AppData\\Local\\Temp\\ipykernel_15728\\1956865580.py:1: The name tf.Session is deprecated. Please use tf.compat.v1.Session instead.\n",
      "\n",
      "WARNING:tensorflow:From C:\\Users\\norer\\AppData\\Local\\Temp\\ipykernel_15728\\1956865580.py:2: The name tf.global_variables_initializer is deprecated. Please use tf.compat.v1.global_variables_initializer instead.\n",
      "\n"
     ]
    },
    {
     "data": {
      "image/png": "[encoded data removed]",
      "text/plain": [
       "<Figure size 432x288 with 2 Axes>"
      ]
     },
     "metadata": {
      "needs_background": "light"
     },
     "output_type": "display_data"
    },
    {
     "data": {
      "image/png": "[encoded data removed]",
      "text/plain": [
       "<Figure size 432x288 with 2 Axes>"
      ]
     },
     "metadata": {
      "needs_background": "light"
     },
     "output_type": "display_data"
    }
   ],
   "source": [
    "with tf.Session() as sess:\n",
    "    sess.run(tf.global_variables_initializer())\n",
    "    alpha_true0 = sess.run([alpha_true],\n",
    "                           feed_dict=feed_dict01)  # note alpha takes two variables but feed_dict01 has three input. but it's ok and won't cause any issues\n",
    "\n",
    "alpha_true0 = alpha_true0[0].reshape((xx.shape))\n",
    "\n",
    "fig = plt.figure()\n",
    "plt.contourf(Lx * xx, Lz * zz, alpha_true0.reshape((xx.shape)), 100, cmap='jet')\n",
    "plt.xlabel('x')\n",
    "plt.ylabel('z')\n",
    "plt.title(r'True acoustic wavespeed ($\\alpha$)')\n",
    "plt.colorbar()\n",
    "plt.axis('scaled')\n",
    "plt.plot(Lx * 0.99 * X_S[:, 0], Lz * X_S[:, 1], 'r*', markersize=5)\n",
    "plt.savefig('True_wavespeed.png', dpi=400)\n",
    "plt.show()\n",
    "plt.close(fig)\n",
    "\n",
    "with tf.Session() as sess:\n",
    "    sess.run(tf.global_variables_initializer())\n",
    "    alpha_plot = sess.run([alpha], feed_dict=feed_dict01)\n",
    "\n",
    "alpha_plot = alpha_plot[0].reshape(xx.shape)\n",
    "\n",
    "fig = plt.figure()\n",
    "plt.contourf(xx * Lx, zz * Lz, alpha_plot.reshape((xx.shape)), 100, cmap='jet')\n",
    "plt.xlabel('x')\n",
    "plt.ylabel('z')\n",
    "plt.title(r'Initial guess ($\\alpha$)')\n",
    "plt.colorbar()\n",
    "plt.axis('scaled')\n",
    "plt.savefig('Ini_guess_wavespeed.png', dpi=400)\n",
    "plt.show()\n",
    "plt.close(fig)"
   ]
  },
  {
   "cell_type": "code",
   "execution_count": 21,
   "id": "787a0b11-53cf-4038-9609-5268bbacb7f9",
   "metadata": {},
   "outputs": [
    {
     "name": "stdout",
     "output_type": "stream",
     "text": [
      "Time:  3.3859441000000743\n",
      "Epoch:  0 , Loss:  76.35621857066232 , Loss_pde:  198.1707343645496 , Loss_init_disp1:  19.44865280505744\n",
      "          , Loss_init_disp2:  19.613503767328563 Loss_seism:  16.985802777666358 Loss_stress:  4.91185784154994\n"
     ]
    },
    {
     "data": {
      "image/png": "[encoded data removed]",
      "text/plain": [
       "<Figure size 432x288 with 2 Axes>"
      ]
     },
     "metadata": {
      "needs_background": "light"
     },
     "output_type": "display_data"
    },
    {
     "data": {
      "image/png": "[encoded data removed]",
      "text/plain": [
       "<Figure size 432x288 with 2 Axes>"
      ]
     },
     "metadata": {
      "needs_background": "light"
     },
     "output_type": "display_data"
    }
   ],
   "source": [
    "bbn = 0\n",
    "num_epoch = 200\n",
    "with tf.Session() as sess:\n",
    "    sess.run(tf.global_variables_initializer())\n",
    "\n",
    "    start = timeit.default_timer()\n",
    "    for epoch in range(num_epoch):\n",
    "\n",
    "        sess.run(train_op_Adam, feed_dict=feed_dict1)\n",
    "\n",
    "        if epoch % 200 == 0:\n",
    "            stop = timeit.default_timer()\n",
    "            print('Time: ', stop - start)\n",
    "            loss_val, loss_pde_val, loss_init_disp1_val, loss_init_disp2_val, loss_seism_val, loss_BC_val \\\n",
    "                = sess.run([loss, loss_pde, loss_init_disp1, loss_init_disp2, loss_seism, loss_BC],\n",
    "                           feed_dict=feed_dict1)\n",
    "\n",
    "            print('Epoch: ', epoch, ', Loss: ', loss_val, ', Loss_pde: ', loss_pde_val, ', Loss_init_disp1: ',\n",
    "                  loss_init_disp1_val)\n",
    "            print('          , Loss_init_disp2: ', loss_init_disp2_val, 'Loss_seism: ', loss_seism_val, 'Loss_stress: ',\n",
    "                  loss_BC_val)\n",
    "\n",
    "            ux01 = sess.run([ux], feed_dict=feed_dict01)\n",
    "            uz01 = sess.run([uz], feed_dict=feed_dict01)\n",
    "            ux02 = sess.run([ux], feed_dict=feed_dict02)\n",
    "            uz02 = sess.run([uz], feed_dict=feed_dict02)\n",
    "            uxt = sess.run([ux], feed_dict=feed_dict2)\n",
    "            uzt = sess.run([uz], feed_dict=feed_dict2)\n",
    "            uz_seism_pred = sess.run([uz], feed_dict=feed_dict_seism)\n",
    "            ux_seism_pred = sess.run([ux], feed_dict=feed_dict_seism)\n",
    "            alpha0 = sess.run([alpha], feed_dict=feed_dict01)\n",
    "            i = i + 1\n",
    "            loss_eval[0, 0], loss_eval[0, 1], loss_eval[0, 2], loss_eval[0, 3], loss_eval[0, 4], loss_eval[0, 5], \\\n",
    "            loss_eval[0, 6] \\\n",
    "                = epoch, loss_val, loss_pde_val, loss_init_disp1_val, loss_init_disp2_val, loss_seism_val, loss_BC_val\n",
    "\n",
    "            loss_rec = np.concatenate((loss_rec, loss_eval), axis=0)\n",
    "\n",
    "            #####Defining a new training batch for both PDE and B.C input data\n",
    "            x_vec = np.random.rand(bcxn, 1) * ax / Lx\n",
    "            t_vec = np.random.rand(bctn, 1) * (t_m - t_st)\n",
    "            xxb, ttb = np.meshgrid(x_vec, t_vec)\n",
    "            X_BC_t = np.concatenate(\n",
    "                (xxb.reshape((-1, 1)), az / Lz * np.ones((xxb.reshape((-1, 1)).shape[0], 1)), ttb.reshape((-1, 1))),\n",
    "                axis=1)\n",
    "\n",
    "            bbn = bbn + 1\n",
    "            XX = np.concatenate((X_pde[bbn * batch_size:(bbn + 1) * batch_size], X_init1, X_init2, X_S, X_BC_t), axis=0)\n",
    "            feed_dict1 = {x: XX[:, 0:1], z: XX[:, 1:2], t: XX[:, 2:3]}  # This dictionary is for training\n",
    "\n",
    "            # U_PINN01 = ((ux01[0].reshape(xx.shape)) ** 2 + (uz01[0].reshape(xx.shape)) ** 2) ** 0.5\n",
    "            # U_PINN02 = ((ux02[0].reshape(xx.shape)) ** 2 + (uz02[0].reshape(xx.shape)) ** 2) ** 0.5\n",
    "            U_PINNt = ((uxt[0].reshape(xx.shape)) ** 2 + (uzt[0].reshape(xx.shape)) ** 2) ** 0.5\n",
    "            # U_diff = np.sqrt(U_specx ** 2 + U_specz ** 2).reshape(xx.shape) - U_PINNt\n",
    "            \n",
    "#             fig = plt.figure()\n",
    "#             plt.contourf(xx * Lx, zz * Lz, U_PINN01, 100, cmap='jet')\n",
    "#             plt.xlabel('x')\n",
    "#             plt.ylabel('z')\n",
    "#             plt.title(r'PINNs $U(x,z,t=$' + str(0) + r'$)$')\n",
    "#             plt.colorbar()\n",
    "#             plt.axis('scaled')\n",
    "#             plt.savefig('Total_Predicted_dispfield_t=' + str(0) + '.png', dpi=400)\n",
    "#             plt.show()\n",
    "#             plt.close(fig)\n",
    "            \n",
    "#             fig = plt.figure()\n",
    "#             plt.contourf(xx * Lx, zz * Lz, U_PINN02, 100, cmap='jet')\n",
    "#             plt.xlabel('x')\n",
    "#             plt.ylabel('z')\n",
    "#             plt.title(r'PINNs $U(x,z,t=$' + str(round(t02 - t01, 4)) + r'$)$')\n",
    "#             plt.colorbar()\n",
    "#             plt.axis('scaled')\n",
    "#             plt.savefig('Total_Predicted_dispfield_t=' + str(round(t02 - t01, 4)) + '.png', dpi=400)\n",
    "#             plt.show()\n",
    "#             plt.close(fig)\n",
    "            \n",
    "            fig = plt.figure()\n",
    "            plt.contourf(xx * Lx, zz * Lz, U_PINNt, 100, cmap='jet')\n",
    "            plt.xlabel('x')\n",
    "            plt.ylabel('z')\n",
    "            plt.title(r'PINNs $U(x,z,t=$' + str(round((t_la - t01), 4)) + r'$)$')\n",
    "            plt.colorbar()\n",
    "            plt.axis('scaled')\n",
    "            plt.savefig('Total_Predicted_dispfield_t=' + str(round((t_la - t01), 4)) + '.png', dpi=400)\n",
    "            plt.show()\n",
    "            plt.close(fig)\n",
    "\n",
    "            # fig = plt.figure()\n",
    "            # plt.contourf(xx * Lx, zz * Lz, U_diff, 100, cmap='jet')\n",
    "            # plt.xlabel('x')\n",
    "            # plt.ylabel('z')\n",
    "            # plt.title(r'Total disp. Specfem-PINNs ($t=$' + str(round((t_la - t01), 4)) + r'$)$')\n",
    "            # plt.colorbar()\n",
    "            # plt.axis('scaled')\n",
    "            # plt.savefig('pointwise_Error_spec_minus_PINNs_t=' + str(round((t_la - t01), 4)) + '.png', dpi=400)\n",
    "            # plt.show()\n",
    "            # plt.close(fig)\n",
    "\n",
    "            fig = plt.figure()\n",
    "            plt.contourf(xx * Lx, zz * Lz, alpha0[0].reshape(xx.shape), 100, cmap='jet')\n",
    "            plt.xlabel('x')\n",
    "            plt.ylabel('z')\n",
    "            plt.title(r'Inverted $\\alpha$')\n",
    "            plt.colorbar()\n",
    "            plt.axis('scaled')\n",
    "            plt.savefig('inverted_alpha.png', dpi=400)\n",
    "            plt.show()\n",
    "            plt.close(fig)\n",
    "\n",
    "#             fig = plt.figure()\n",
    "#             plt.contourf(xx * Lx, zz * Lx, alpha_true0 - (alpha0[0].reshape(xx.shape)), 100, cmap='jet')\n",
    "#             plt.xlabel('x')\n",
    "#             plt.ylabel('z')\n",
    "#             plt.title(r' $\\alpha$ misfit (true-inverted)')\n",
    "#             plt.colorbar()\n",
    "#             plt.axis('scaled')\n",
    "#             plt.savefig('alpha_misfit.png', dpi=400)\n",
    "#             plt.show()\n",
    "#             plt.close(fig)\n",
    "\n",
    "#             fig = plt.figure()\n",
    "#             plt.plot(loss_rec[0:, 0], loss_rec[0:, 4], 'g', label='ini_disp2')\n",
    "#             plt.plot(loss_rec[0:, 0], loss_rec[0:, 6], 'black', label='B.C')\n",
    "#             plt.plot(loss_rec[0:, 0], loss_rec[0:, 1], '--y', label='Total')\n",
    "#             plt.plot(loss_rec[0:, 0], loss_rec[0:, 2], 'r', label='PDE')\n",
    "#             plt.plot(loss_rec[0:, 0], loss_rec[0:, 3], 'b', label='ini_disp1')\n",
    "#             plt.plot(loss_rec[0:, 0], loss_rec[0:, 5], 'c', label='Seism')\n",
    "#             plt.yscale(\"log\")\n",
    "#             plt.xlabel('epoch')\n",
    "#             plt.ylabel('misfit')\n",
    "#             plt.legend()\n",
    "#             plt.savefig('misfit.png', dpi=400)\n",
    "#             plt.show()\n",
    "#             plt.close(fig)\n",
    "\n",
    "#             fig = plt.figure()\n",
    "#             plt.plot(X_S[600:750, 2], Sz[600:750], 'ok', mfc='none', label='Input')\n",
    "#             plt.plot(X_S[600:750, 2], uz_seism_pred[0][600:750], 'r', label='PINNs')\n",
    "#             plt.legend()\n",
    "#             plt.title(r' Vertical Seismogram z=' + str(round(az - d_s, 4)))\n",
    "#             plt.savefig('ZSeismograms_compare_z=' + str(round(az - d_s, 4)) + '.png', dpi=400)\n",
    "#             plt.show()\n",
    "#             plt.close(fig)\n",
    "\n",
    "#             fig = plt.figure()\n",
    "#             plt.plot(X_S[600:750, 2], Sx[600:750], 'ok', mfc='none', label='Input')\n",
    "#             plt.plot(X_S[600:750, 2], ux_seism_pred[0][600:750], 'r', label='PINNs')\n",
    "#             plt.legend()\n",
    "#             plt.title(r' Horizontal Seismogram z=' + str(round(az - d_s, 4)))\n",
    "#             plt.savefig('XSeismograms_compare_z=' + str(round(az - d_s, 4)) + '.png', dpi=400)\n",
    "#             plt.show()\n",
    "#             plt.close(fig)\n",
    "\n",
    "            w_f = sess.run(weights)  # saving weights\n",
    "            b_f = sess.run(biases)  # saving biases\n",
    "            w_alph = sess.run(weights0)  # saving weights for the inverse NN\n",
    "            b_alph = sess.run(biases0)\n",
    "            with open('recorded_weights.pickle', 'wb') as f:\n",
    "                pickle.dump(\n",
    "                    ['The first tensor contains weights, the second biases and the third losses', w_f, b_f, w_alph,\n",
    "                     b_alph, loss_rec], f)\n"
   ]
  },
  {
   "cell_type": "code",
   "execution_count": null,
   "id": "868cd7eb-9bb7-4851-9fa8-726964cc85e2",
   "metadata": {},
   "outputs": [],
   "source": []
  }
 ],
 "metadata": {
  "kernelspec": {
   "display_name": "Python 3 (ipykernel)",
   "language": "python",
   "name": "python3"
  },
  "language_info": {
   "codemirror_mode": {
    "name": "ipython",
    "version": 3
   },
   "file_extension": ".py",
   "mimetype": "text/x-python",
   "name": "python",
   "nbconvert_exporter": "python",
   "pygments_lexer": "ipython3",
   "version": "3.7.13"
  }
 },
 "nbformat": 4,
 "nbformat_minor": 5
}
